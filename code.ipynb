{
 "cells": [
  {
   "cell_type": "code",
   "execution_count": 1,
   "metadata": {},
   "outputs": [
    {
     "name": "stdout",
     "output_type": "stream",
     "text": [
      "Requirement already satisfied: pyspark in c:\\users\\pc\\anaconda3\\lib\\site-packages (3.5.3)\n",
      "Requirement already satisfied: py4j==0.10.9.7 in c:\\users\\pc\\anaconda3\\lib\\site-packages (from pyspark) (0.10.9.7)\n"
     ]
    }
   ],
   "source": [
    "!pip install pyspark"
   ]
  },
  {
   "cell_type": "code",
   "execution_count": 3,
   "metadata": {},
   "outputs": [],
   "source": [
    "from pyspark.sql import SparkSession\n",
    "\n",
    "# Initialize Spark session\n",
    "spark = SparkSession.builder.appName(\"DataLoad\").getOrCreate()"
   ]
  },
  {
   "cell_type": "code",
   "execution_count": 5,
   "metadata": {},
   "outputs": [],
   "source": [
    "# Load the CSV file into a Spark DataFrame\n",
    "df = spark.read.option(\"header\", \"true\").csv(\"../data.csv\")\n",
    "\n",
    "# Register the DataFrame as a temporary SQL table\n",
    "df.createOrReplaceTempView(\"data\")"
   ]
  },
  {
   "cell_type": "code",
   "execution_count": 6,
   "metadata": {},
   "outputs": [
    {
     "name": "stdout",
     "output_type": "stream",
     "text": [
      "+-------------------+----------+---------------------+----------------------------+-------------------+-------------------------+----------------+----+------------------------+----+----------------+------------------+---------+-------------------+---------------+----------+---------------------------+-------------------+--------------------+---------------------+--------------------+------------------+-----------------------+\n",
      "|  fecha reporte web|ID de caso|Fecha de notificación|Código DIVIPOLA departamento|Nombre departamento|Código DIVIPOLA municipio|Nombre municipio|Edad|Unidad de medida de edad|Sexo|Tipo de contagio|Ubicación del caso|   Estado|Código ISO del país|Nombre del país|Recuperado|Fecha de inicio de síntomas|    Fecha de muerte|Fecha de diagnóstico|Fecha de recuperación|Tipo de recuperación|Pertenencia étnica|Nombre del grupo étnico|\n",
      "+-------------------+----------+---------------------+----------------------------+-------------------+-------------------------+----------------+----+------------------------+----+----------------+------------------+---------+-------------------+---------------+----------+---------------------------+-------------------+--------------------+---------------------+--------------------+------------------+-----------------------+\n",
      "|2020-12-24 00:00:00|   1556979|  2020-12-22 00:00:00|                          76|              VALLE|                    76001|            CALI|  67|                       1|   F|     Comunitaria|              Casa|     Leve|               NULL|           NULL|Recuperado|        2020-12-21 00:00:00|               NULL| 2020-12-23 00:00:00|  2021-01-04 00:00:00|              Tiempo|                 6|                   NULL|\n",
      "|2020-12-24 00:00:00|   1556980|  2020-12-19 00:00:00|                          76|              VALLE|                    76001|            CALI|  66|                       1|   F|     Comunitaria|              Casa|     Leve|               NULL|           NULL|Recuperado|        2020-12-07 00:00:00|               NULL| 2020-12-23 00:00:00|  2020-12-25 00:00:00|              Tiempo|                 6|                   NULL|\n",
      "|2020-12-24 00:00:00|   1556981|  2020-12-19 00:00:00|                          76|              VALLE|                    76001|            CALI|  68|                       1|   F|     Comunitaria|              Casa|     Leve|               NULL|           NULL|Recuperado|        2020-12-18 00:00:00|               NULL| 2020-12-22 00:00:00|  2021-01-01 00:00:00|              Tiempo|                 6|                   NULL|\n",
      "|2020-12-24 00:00:00|   1556982|  2020-12-22 00:00:00|                          76|              VALLE|                    76001|            CALI|  74|                       1|   F|     Comunitaria|         Fallecido|Fallecido|               NULL|           NULL| Fallecido|        2020-12-17 00:00:00|2020-12-30 00:00:00| 2020-12-23 00:00:00|                 NULL|                NULL|                 6|                   NULL|\n",
      "|2020-12-24 00:00:00|   1556983|  2020-12-22 00:00:00|                          76|              VALLE|                    76001|            CALI|  65|                       1|   F|     Comunitaria|              Casa|     Leve|               NULL|           NULL|Recuperado|        2020-12-21 00:00:00|               NULL| 2020-12-23 00:00:00|  2021-01-04 00:00:00|              Tiempo|                 6|                   NULL|\n",
      "|2020-12-24 00:00:00|   1556984|  2020-12-15 00:00:00|                          76|              VALLE|                    76001|            CALI|  66|                       1|   F|     Comunitaria|              Casa|     Leve|               NULL|           NULL|Recuperado|        2020-12-09 00:00:00|               NULL| 2020-12-23 00:00:00|  2020-12-25 00:00:00|              Tiempo|                 6|                   NULL|\n",
      "|2020-12-24 00:00:00|   1556985|  2020-12-21 00:00:00|                          76|              VALLE|                    76001|            CALI|  74|                       1|   F|     Comunitaria|              Casa|     Leve|               NULL|           NULL|Recuperado|        2020-12-14 00:00:00|               NULL| 2020-12-22 00:00:00|  2020-12-28 00:00:00|              Tiempo|                 6|                   NULL|\n",
      "|2020-12-24 00:00:00|   1556986|  2020-12-18 00:00:00|                          76|              VALLE|                    76001|            CALI|  66|                       1|   F|     Comunitaria|         Fallecido|Fallecido|               NULL|           NULL| Fallecido|        2020-12-11 00:00:00|2020-12-26 00:00:00| 2020-12-22 00:00:00|                 NULL|                NULL|                 6|                   NULL|\n",
      "|2020-12-24 00:00:00|   1556987|  2020-12-18 00:00:00|                          76|              VALLE|                    76001|            CALI|  64|                       1|   F|     Comunitaria|              Casa|     Leve|               NULL|           NULL|Recuperado|        2020-12-15 00:00:00|               NULL| 2020-12-23 00:00:00|  2020-12-30 00:00:00|              Tiempo|                 6|                   NULL|\n",
      "|2020-12-24 00:00:00|   1556988|  2020-12-17 00:00:00|                          76|              VALLE|                    76001|            CALI|  65|                       1|   F|     Comunitaria|              Casa|     Leve|               NULL|           NULL|Recuperado|        2020-12-08 00:00:00|               NULL| 2020-12-22 00:00:00|  2020-12-25 00:00:00|              Tiempo|                 6|                   NULL|\n",
      "|2020-12-24 00:00:00|   1556989|  2020-12-16 00:00:00|                          76|              VALLE|                    76001|            CALI|  62|                       1|   F|     Comunitaria|              Casa|     Leve|               NULL|           NULL|Recuperado|        2020-12-08 00:00:00|               NULL| 2020-12-23 00:00:00|  2021-04-23 00:00:00|              Tiempo|                 6|                   NULL|\n",
      "|2020-12-24 00:00:00|   1556990|  2020-12-08 00:00:00|                          76|              VALLE|                    76001|            CALI|  36|                       1|   F|     Comunitaria|              Casa|     Leve|               NULL|           NULL|Recuperado|        2020-12-01 00:00:00|               NULL| 2020-12-12 00:00:00|  2020-12-25 00:00:00|              Tiempo|                 6|                   NULL|\n",
      "|2020-12-24 00:00:00|   1556991|  2020-12-22 00:00:00|                          76|              VALLE|                    76001|            CALI|  36|                       1|   F|     Comunitaria|              Casa|     Leve|               NULL|           NULL|Recuperado|        2020-12-19 00:00:00|               NULL| 2020-12-21 00:00:00|  2021-01-02 00:00:00|                 PCR|                 6|                   NULL|\n",
      "|2020-12-24 00:00:00|   1556992|  2020-12-19 00:00:00|                          76|              VALLE|                    76001|            CALI|  35|                       1|   F|     Comunitaria|              Casa|     Leve|               NULL|           NULL|Recuperado|        2020-12-12 00:00:00|               NULL| 2020-12-23 00:00:00|  2020-12-27 00:00:00|              Tiempo|                 6|                   NULL|\n",
      "|2020-11-08 00:00:00|   1137429|  2020-11-05 00:00:00|                           5|          ANTIOQUIA|                     5266|        ENVIGADO|  37|                       1|   F|     Comunitaria|              Casa|     Leve|               NULL|           NULL|Recuperado|        2020-10-31 00:00:00|               NULL| 2020-11-06 00:00:00|  2021-04-25 00:00:00|                 PCR|                 6|                   NULL|\n",
      "|2020-11-08 00:00:00|   1137430|  2020-10-31 00:00:00|                          68|          SANTANDER|                    68001|     BUCARAMANGA|  77|                       1|   M|     Comunitaria|              Casa|     Leve|               NULL|           NULL|Recuperado|        2020-10-31 00:00:00|               NULL| 2020-11-06 00:00:00|  2020-11-15 00:00:00|              Tiempo|                 6|                   NULL|\n",
      "|2020-11-08 00:00:00|   1137431|  2020-11-04 00:00:00|                          54|    NORTE SANTANDER|                    54001|          CUCUTA|  52|                       1|   M|     Comunitaria|              Casa|     Leve|               NULL|           NULL|Recuperado|        2020-10-31 00:00:00|               NULL| 2020-11-07 00:00:00|  2020-11-15 00:00:00|              Tiempo|                 6|                   NULL|\n",
      "|2020-11-08 00:00:00|   1137432|  2020-11-06 00:00:00|                          17|             CALDAS|                    17001|       MANIZALES|  46|                       1|   F|     Comunitaria|              Casa|     Leve|               NULL|           NULL|Recuperado|        2020-10-31 00:00:00|               NULL| 2020-11-06 00:00:00|  2020-11-15 00:00:00|              Tiempo|                 6|                   NULL|\n",
      "|2020-11-08 00:00:00|   1137433|  2020-11-04 00:00:00|                           5|          ANTIOQUIA|                     5266|        ENVIGADO|  37|                       1|   F|     Comunitaria|              Casa|     Leve|               NULL|           NULL|Recuperado|        2020-10-31 00:00:00|               NULL| 2020-11-04 00:00:00|  2020-11-15 00:00:00|              Tiempo|                 6|                   NULL|\n",
      "|2020-11-08 00:00:00|   1137434|  2020-11-05 00:00:00|                          11|             BOGOTA|                    11001|          BOGOTA|  81|                       1|   F|     Relacionado|         Fallecido|Fallecido|               NULL|           NULL| Fallecido|        2020-10-31 00:00:00|2020-11-11 00:00:00| 2020-11-07 00:00:00|                 NULL|                NULL|                 6|                   NULL|\n",
      "+-------------------+----------+---------------------+----------------------------+-------------------+-------------------------+----------------+----+------------------------+----+----------------+------------------+---------+-------------------+---------------+----------+---------------------------+-------------------+--------------------+---------------------+--------------------+------------------+-----------------------+\n",
      "only showing top 20 rows\n",
      "\n"
     ]
    }
   ],
   "source": [
    "result=spark.sql(\"SELECT * FROM data\")\n",
    "result.show()"
   ]
  },
  {
   "cell_type": "code",
   "execution_count": 7,
   "metadata": {},
   "outputs": [
    {
     "name": "stdout",
     "output_type": "stream",
     "text": [
      "+--------------------+---------+-------+\n",
      "|            col_name|data_type|comment|\n",
      "+--------------------+---------+-------+\n",
      "|   fecha reporte web|   string|   NULL|\n",
      "|          ID de caso|   string|   NULL|\n",
      "|Fecha de notifica...|   string|   NULL|\n",
      "|Código DIVIPOLA d...|   string|   NULL|\n",
      "| Nombre departamento|   string|   NULL|\n",
      "|Código DIVIPOLA m...|   string|   NULL|\n",
      "|    Nombre municipio|   string|   NULL|\n",
      "|                Edad|   string|   NULL|\n",
      "|Unidad de medida ...|   string|   NULL|\n",
      "|                Sexo|   string|   NULL|\n",
      "|    Tipo de contagio|   string|   NULL|\n",
      "|  Ubicación del caso|   string|   NULL|\n",
      "|              Estado|   string|   NULL|\n",
      "| Código ISO del país|   string|   NULL|\n",
      "|     Nombre del país|   string|   NULL|\n",
      "|          Recuperado|   string|   NULL|\n",
      "|Fecha de inicio d...|   string|   NULL|\n",
      "|     Fecha de muerte|   string|   NULL|\n",
      "|Fecha de diagnóstico|   string|   NULL|\n",
      "|Fecha de recupera...|   string|   NULL|\n",
      "+--------------------+---------+-------+\n",
      "only showing top 20 rows\n",
      "\n"
     ]
    }
   ],
   "source": [
    "spark.sql(\"desc data\").show()"
   ]
  },
  {
   "cell_type": "code",
   "execution_count": null,
   "metadata": {},
   "outputs": [],
   "source": []
  }
 ],
 "metadata": {
  "kernelspec": {
   "display_name": "Python 3",
   "language": "python",
   "name": "python3"
  },
  "language_info": {
   "codemirror_mode": {
    "name": "ipython",
    "version": 3
   },
   "file_extension": ".py",
   "mimetype": "text/x-python",
   "name": "python",
   "nbconvert_exporter": "python",
   "pygments_lexer": "ipython3",
   "version": "3.11.5"
  }
 },
 "nbformat": 4,
 "nbformat_minor": 2
}
